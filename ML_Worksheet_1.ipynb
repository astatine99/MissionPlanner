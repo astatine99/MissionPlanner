{
  "nbformat": 4,
  "nbformat_minor": 0,
  "metadata": {
    "colab": {
      "name": "Untitled8.ipynb",
      "provenance": [],
      "authorship_tag": "ABX9TyMKX+UYqNnh+RPj3Vdrrmc7",
      "include_colab_link": true
    },
    "kernelspec": {
      "name": "python3",
      "display_name": "Python 3"
    },
    "language_info": {
      "name": "python"
    }
  },
  "cells": [
    {
      "cell_type": "markdown",
      "metadata": {
        "id": "view-in-github",
        "colab_type": "text"
      },
      "source": [
        "<a href=\"https://colab.research.google.com/github/astatine99/MissionPlanner/blob/master/ML_Worksheet_1.ipynb\" target=\"_parent\"><img src=\"https://colab.research.google.com/assets/colab-badge.svg\" alt=\"Open In Colab\"/></a>"
      ]
    },
    {
      "cell_type": "markdown",
      "source": [
        "Question 1"
      ],
      "metadata": {
        "id": "HBPQ9sOb6qTg"
      }
    },
    {
      "cell_type": "code",
      "execution_count": null,
      "metadata": {
        "id": "7Qcoenrn6ndQ"
      },
      "outputs": [],
      "source": [
        "def factorial(num):\n",
        "  if num in [0,1]:\n",
        "    return 1\n",
        "  else:\n",
        "    return num * factorial(num-1)"
      ]
    },
    {
      "cell_type": "markdown",
      "source": [
        "Question 2"
      ],
      "metadata": {
        "id": "Shlp2ToS6vtH"
      }
    },
    {
      "cell_type": "code",
      "source": [
        "def relation_to_luke(name):\n",
        "  relation = {'Darth Vader':'Father', 'Leia':'Sister','Han':'Brother-in-law', 'R2D2':'Droid'}\n",
        "  print(\"Luke, I am your {}.\".format(relation[name]))"
      ],
      "metadata": {
        "id": "BDpwdC5H6vPP"
      },
      "execution_count": null,
      "outputs": []
    },
    {
      "cell_type": "markdown",
      "source": [
        "Question 3"
      ],
      "metadata": {
        "id": "uyvybYqk8sD4"
      }
    },
    {
      "cell_type": "code",
      "source": [
        "def no_of_digits(num):\n",
        "  for x in range(1,100):\n",
        "    if num//(10**x) == 0:\n",
        "      break\n",
        "  return x"
      ],
      "metadata": {
        "id": "moupNSha8tiH"
      },
      "execution_count": null,
      "outputs": []
    },
    {
      "cell_type": "markdown",
      "source": [
        "Question 4"
      ],
      "metadata": {
        "id": "MvB8t9JZ9_Ge"
      }
    },
    {
      "cell_type": "code",
      "source": [
        "def product_of_factorial(num):\n",
        "  if num in [0,1]:\n",
        "    return 1\n",
        "  else:\n",
        "    return factorial(num)*product_of_factorial(num-1) #Using the factorial function in the first question"
      ],
      "metadata": {
        "id": "mu9cDyfm-BLo"
      },
      "execution_count": null,
      "outputs": []
    },
    {
      "cell_type": "markdown",
      "source": [
        "Question 5"
      ],
      "metadata": {
        "id": "21TCk3Tw-7n9"
      }
    },
    {
      "cell_type": "code",
      "source": [
        "def sum_of_series(lst):\n",
        "  sum = 0\n",
        "  for x in lst:\n",
        "    sum = sum + x**2\n",
        "  return sum\n",
        "lst = []\n",
        "n = int(input(\"Enter number of elements : \"))\n",
        "for i in range(0, n):\n",
        "    ele = int(input())\n",
        "    lst.append(ele)\n",
        "sum_of_series(lst)"
      ],
      "metadata": {
        "id": "KfFyisWq-9Ld"
      },
      "execution_count": null,
      "outputs": []
    },
    {
      "cell_type": "markdown",
      "source": [
        "Question 6"
      ],
      "metadata": {
        "id": "yV2lKqawAg61"
      }
    },
    {
      "cell_type": "code",
      "source": [
        "def operation(number1, number2, operator):\n",
        "  if operator not in ['+','-','*','/']:\n",
        "    print(\"Invalid Operator\")\n",
        "  else:\n",
        "    if operator == '+':\n",
        "      return number1 + number2\n",
        "    elif operator == '-':\n",
        "      return number1 - number2\n",
        "    elif operator == '*':\n",
        "      return number1 * number2\n",
        "    else:\n",
        "      return number1/number2\n",
        "number1 = int(input())\n",
        "number2 = int(input())\n",
        "operator = input()\n",
        "operation(number1,number2,operator)"
      ],
      "metadata": {
        "id": "9CXJN24xAjCu"
      },
      "execution_count": null,
      "outputs": []
    },
    {
      "cell_type": "markdown",
      "source": [
        "Question 7"
      ],
      "metadata": {
        "id": "ObiqE2v6CQlc"
      }
    },
    {
      "cell_type": "code",
      "source": [
        "def pattern(num):\n",
        "  for x in range(1,num+1):\n",
        "    if x%2 == 0:\n",
        "      print(\"I WILL\")\n",
        "    else:\n",
        "      print(\"I CAN\")"
      ],
      "metadata": {
        "id": "0rPCrAsVCQCF"
      },
      "execution_count": 4,
      "outputs": []
    },
    {
      "cell_type": "markdown",
      "source": [
        "Question 9"
      ],
      "metadata": {
        "id": "dQxh-yBMDWnM"
      }
    },
    {
      "cell_type": "code",
      "source": [
        "def check_for_consecutive(lst1, lst2):\n",
        "  for x in lst2:\n",
        "    lst1.append(x)\n",
        "  if sorted(lst1) == list(range(min(lst1),max(lst1)+1)):\n",
        "    print(\"True\")\n",
        "  else:\n",
        "    print(False)"
      ],
      "metadata": {
        "id": "WlOivpbuDO1t"
      },
      "execution_count": null,
      "outputs": []
    },
    {
      "cell_type": "markdown",
      "source": [
        "Question 10"
      ],
      "metadata": {
        "id": "cHzC50v7GkDd"
      }
    },
    {
      "cell_type": "code",
      "source": [
        "def profit(my_dict):\n",
        "  return (my_dict['sell_price'] * my_dict['inventory']) - (my_dict['cost_price'] * my_dict['inventory'])"
      ],
      "metadata": {
        "id": "Mh2liRWpGmF0"
      },
      "execution_count": null,
      "outputs": []
    }
  ]
}